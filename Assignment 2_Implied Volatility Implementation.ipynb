{
 "cells": [
  {
   "cell_type": "code",
   "execution_count": 27,
   "id": "62282e87",
   "metadata": {},
   "outputs": [
    {
     "name": "stdout",
     "output_type": "stream",
     "text": [
      "The autoreload extension is already loaded. To reload it, use:\n",
      "  %reload_ext autoreload\n"
     ]
    }
   ],
   "source": [
    "import numpy as np\n",
    "import pandas as pd\n",
    "import Options_Calculator as op\n",
    "%matplotlib inline\n",
    "%load_ext autoreload\n",
    "%autoreload 2"
   ]
  },
  {
   "cell_type": "code",
   "execution_count": 7,
   "id": "31028474",
   "metadata": {},
   "outputs": [
    {
     "data": {
      "text/plain": [
       "0.3848073859910144"
      ]
     },
     "execution_count": 7,
     "metadata": {},
     "output_type": "execute_result"
    }
   ],
   "source": [
    "da1=op.digital_call_price(171.01,0,1,0.03,180,0.1)\n",
    "da1"
   ]
  },
  {
   "cell_type": "code",
   "execution_count": 13,
   "id": "03051285",
   "metadata": {},
   "outputs": [
    {
     "data": {
      "text/latex": [
       "$\\displaystyle \\frac{t \\left(- c + r + \\frac{si^{2}}{2}\\right) + \\log{\\left(\\frac{S}{k} \\right)}}{si \\sqrt{t}}$"
      ],
      "text/plain": [
       "(t*(-c + r + si**2/2) + log(S/k))/(si*sqrt(t))"
      ]
     },
     "execution_count": 13,
     "metadata": {},
     "output_type": "execute_result"
    }
   ],
   "source": [
    "import sympy as sympy\n",
    "from sympy import *\n",
    "import math\n",
    "S,c,t,r,k,si=symbols(\"S,c,t,r,k,si\")\n",
    "d1=(sympy.log(S/k)+(r-c+((si**2)/2))*t)/(si*sympy.sqrt(t))\n",
    "d2=d1-(si*sympy.sqrt(t))\n",
    "d1"
   ]
  },
  {
   "cell_type": "markdown",
   "id": "4b068d01",
   "metadata": {},
   "source": [
    "https://docs.sympy.org/latest/modules/stats.html"
   ]
  },
  {
   "cell_type": "code",
   "execution_count": 1,
   "id": "96c96f66",
   "metadata": {},
   "outputs": [],
   "source": [
    "from sympy.stats import *"
   ]
  },
  {
   "cell_type": "code",
   "execution_count": 22,
   "id": "861bd38a",
   "metadata": {},
   "outputs": [
    {
     "name": "stdout",
     "output_type": "stream",
     "text": [
      "[σ]= [0.3] , Object Function Value: 4.638500319585817\n",
      "[σ]= [0.315] , Object Function Value: 3.931566727445799\n",
      "[σ]= [0.33] , Object Function Value: 3.2789218208780073\n",
      "[σ]= [0.345] , Object Function Value: 2.6822369212128043\n",
      "[σ]= [0.375] , Object Function Value: 1.6621221666992505\n",
      "[σ]= [0.405] , Object Function Value: 0.8799766353586941\n",
      "[σ]= [0.465] , Object Function Value: 0.052940627531564366\n",
      "[σ]= [0.525] , Object Function Value: 0.23316447719931666\n",
      "[σ]= [0.525] , Object Function Value: 0.23316447719931666\n",
      "[σ]= [0.495] , Object Function Value: 0.01585552991803539\n",
      "[σ]= [0.525] , Object Function Value: 0.23316447719931666\n",
      "[σ]= [0.48] , Object Function Value: 0.002726821504596422\n",
      "[σ]= [0.465] , Object Function Value: 0.05294062753156109\n",
      "[σ]= [0.4875] , Object Function Value: 0.0013556002689217805\n",
      "[σ]= [0.495] , Object Function Value: 0.01585552991803539\n",
      "[σ]= [0.48375] , Object Function Value: 5.9418808219064556e-05\n",
      "[σ]= [0.48] , Object Function Value: 0.002726821504596422\n",
      "[σ]= [0.485625] , Object Function Value: 0.0002117916772530184\n",
      "[σ]= [0.481875] , Object Function Value: 0.0008979448945771271\n",
      "[σ]= [0.4846875] , Object Function Value: 1.1709054314737831e-05\n",
      "[σ]= [0.485625] , Object Function Value: 0.0002117916772530184\n",
      "[σ]= [0.48421875] , Object Function Value: 4.594083133114502e-06\n",
      "[σ]= [0.48375] , Object Function Value: 5.9418808219064556e-05\n",
      "[σ]= [0.48445313] , Object Function Value: 4.0858005220131586e-07\n",
      "[σ]= [0.4846875] , Object Function Value: 1.1709054314737831e-05\n",
      "[σ]= [0.48433594] , Object Function Value: 5.656501438240308e-07\n",
      "[σ]= [0.48457031] , Object Function Value: 4.123004340681802e-06\n",
      "[σ]= [0.48439453] , Object Function Value: 3.1865140026835476e-09\n",
      "Optimization terminated successfully.\n",
      "         Current function value: 0.000000\n",
      "         Iterations: 14\n",
      "         Function evaluations: 28\n"
     ]
    }
   ],
   "source": [
    "from scipy.optimize import fmin\n",
    "from scipy.stats import norm\n",
    "\n",
    "S = 60\n",
    "X = 65\n",
    "r = 0.08\n",
    "T = 0.25\n",
    "pm = 8\n",
    "\n",
    "def ImpliedVolatilityPut(s):\n",
    "    d1 = ( (np.log(S/X)+(r+0.5*s[0]**2)*T) / (s[0]*np.sqrt(T)) )\n",
    "    d2 = ( (np.log(S/X)+(r-0.5*s[0]**2)*T) / (s[0]*np.sqrt(T)) )\n",
    "    of = (  X*np.exp(-r*T)*norm.cdf(-d2) - S*norm.cdf(-d1) ) - pm\n",
    "    val = of**2\n",
    "    print(\"[σ]=\",s,\", Object Function Value:\", val)\n",
    "    return(val)\n",
    "    \n",
    "s = fmin(ImpliedVolatilityPut, [0.3])"
   ]
  },
  {
   "cell_type": "code",
   "execution_count": 23,
   "id": "8412e86a",
   "metadata": {},
   "outputs": [
    {
     "name": "stdout",
     "output_type": "stream",
     "text": [
      "[σ]= [0.3] , Object Function Value: 8.988256354462354\n",
      "[σ]= [0.315] , Object Function Value: 12.107784191912154\n",
      "[σ]= [0.285] , Object Function Value: 6.362273484195697\n",
      "[σ]= [0.27] , Object Function Value: 4.217139285286117\n",
      "[σ]= [0.24] , Object Function Value: 1.3035858713765223\n",
      "[σ]= [0.21] , Object Function Value: 0.07592424413335853\n",
      "[σ]= [0.15] , Object Function Value: 1.5184177261891898\n",
      "[σ]= [0.18] , Object Function Value: 0.27631187221318515\n",
      "[σ]= [0.24] , Object Function Value: 1.3035858713765223\n",
      "[σ]= [0.195] , Object Function Value: 0.018153765846033166\n",
      "[σ]= [0.18] , Object Function Value: 0.27631187221318515\n",
      "[σ]= [0.2025] , Object Function Value: 0.004651804918276484\n",
      "[σ]= [0.21] , Object Function Value: 0.07592424413336246\n",
      "[σ]= [0.19875] , Object Function Value: 0.0011452488544545219\n",
      "[σ]= [0.195] , Object Function Value: 0.018153765846033166\n",
      "[σ]= [0.200625] , Object Function Value: 0.0002903861795760372\n",
      "[σ]= [0.2025] , Object Function Value: 0.004651804918276484\n",
      "[σ]= [0.1996875] , Object Function Value: 7.11653760037591e-05\n",
      "[σ]= [0.19875] , Object Function Value: 0.0011452488544545219\n",
      "[σ]= [0.20015625] , Object Function Value: 1.8434525631587982e-05\n",
      "[σ]= [0.200625] , Object Function Value: 0.0002903861795760372\n",
      "[σ]= [0.19992187] , Object Function Value: 4.299079092979891e-06\n",
      "[σ]= [0.1996875] , Object Function Value: 7.116537600399885e-05\n",
      "[σ]= [0.20003906] , Object Function Value: 1.2310083485507266e-06\n",
      "[σ]= [0.20015625] , Object Function Value: 1.8434525631587982e-05\n",
      "[σ]= [0.19998047] , Object Function Value: 2.3241591814518314e-07\n",
      "Optimization terminated successfully.\n",
      "         Current function value: 0.000000\n",
      "         Iterations: 13\n",
      "         Function evaluations: 26\n"
     ]
    }
   ],
   "source": [
    "from scipy.optimize import fmin\n",
    "\n",
    "S = 100\n",
    "X = 90\n",
    "r = 0.05\n",
    "T = 1\n",
    "cm = 16.6994\n",
    "c=0\n",
    "\n",
    "def ImpliedVolatilityPut(s):\n",
    "    d1 = ( (np.log(S/X)+(r+0.5*s[0]**2)*T) / (s[0]*np.sqrt(T)) )\n",
    "    d2 = ( (np.log(S/X)+(r-0.5*s[0]**2)*T) / (s[0]*np.sqrt(T)) )\n",
    "    of = (  S*np.exp(-c*T)*norm.cdf(d1)-X*np.exp(-r*T)*norm.cdf(d2) )-cm\n",
    "    val = of**2\n",
    "    print(\"[σ]=\",s,\", Object Function Value:\", val)\n",
    "    return(val)\n",
    "    \n",
    "s = fmin(ImpliedVolatilityPut, [0.3])"
   ]
  },
  {
   "cell_type": "code",
   "execution_count": 25,
   "id": "d05be547",
   "metadata": {},
   "outputs": [
    {
     "data": {
      "text/plain": [
       "7.4746859242328725"
      ]
     },
     "execution_count": 25,
     "metadata": {},
     "output_type": "execute_result"
    }
   ],
   "source": [
    "k1=90\n",
    "sif=0.3*np.exp(-2*((k1/100)-1))\n",
    "p1=op.put_price(100,0,1,0.05,90,sif)\n",
    "p1"
   ]
  },
  {
   "cell_type": "code",
   "execution_count": 29,
   "id": "4fe2cf19",
   "metadata": {},
   "outputs": [
    {
     "data": {
      "text/plain": [
       "-0.27185737518751596"
      ]
     },
     "execution_count": 29,
     "metadata": {},
     "output_type": "execute_result"
    }
   ],
   "source": [
    "pd,pg,pv,pt=op.greeks_put(100,0,1,0.05,90,sif)\n",
    "pd"
   ]
  },
  {
   "cell_type": "code",
   "execution_count": 31,
   "id": "c5765dc1",
   "metadata": {},
   "outputs": [
    {
     "data": {
      "text/plain": [
       "34.66042344298447"
      ]
     },
     "execution_count": 31,
     "metadata": {},
     "output_type": "execute_result"
    }
   ],
   "source": [
    "po1=p1-(pd*100)\n",
    "po1"
   ]
  },
  {
   "cell_type": "code",
   "execution_count": 36,
   "id": "a7994f50",
   "metadata": {},
   "outputs": [
    {
     "data": {
      "text/plain": [
       "10.199741636659198"
      ]
     },
     "execution_count": 36,
     "metadata": {},
     "output_type": "execute_result"
    }
   ],
   "source": [
    "p2=op.put_price(95,0,1,0.05,90,sif*1.1)\n",
    "p2"
   ]
  },
  {
   "cell_type": "code",
   "execution_count": 37,
   "id": "5271600a",
   "metadata": {},
   "outputs": [
    {
     "data": {
      "text/plain": [
       "36.026192279473214"
      ]
     },
     "execution_count": 37,
     "metadata": {},
     "output_type": "execute_result"
    }
   ],
   "source": [
    "po2=p2-(pd*95)\n",
    "po2"
   ]
  },
  {
   "cell_type": "code",
   "execution_count": 39,
   "id": "3554930b",
   "metadata": {},
   "outputs": [
    {
     "data": {
      "text/plain": [
       "1.3657688364887477"
      ]
     },
     "execution_count": 39,
     "metadata": {},
     "output_type": "execute_result"
    }
   ],
   "source": [
    "po2-po1"
   ]
  },
  {
   "cell_type": "code",
   "execution_count": 41,
   "id": "a88d362b",
   "metadata": {},
   "outputs": [
    {
     "data": {
      "text/plain": [
       "2.7250557124263253"
      ]
     },
     "execution_count": 41,
     "metadata": {},
     "output_type": "execute_result"
    }
   ],
   "source": [
    "y=p2-p1\n",
    "y"
   ]
  },
  {
   "cell_type": "code",
   "execution_count": 42,
   "id": "ffd33842",
   "metadata": {},
   "outputs": [
    {
     "data": {
      "text/plain": [
       "8.952211569908602"
      ]
     },
     "execution_count": 42,
     "metadata": {},
     "output_type": "execute_result"
    }
   ],
   "source": [
    "p3=op.put_price(95,0,1,0.05,90,sif)\n",
    "p3"
   ]
  },
  {
   "cell_type": "code",
   "execution_count": 43,
   "id": "5bbf0dff",
   "metadata": {},
   "outputs": [
    {
     "data": {
      "text/plain": [
       "1.4775256456757297"
      ]
     },
     "execution_count": 43,
     "metadata": {},
     "output_type": "execute_result"
    }
   ],
   "source": [
    "x=p3-p1\n",
    "x"
   ]
  },
  {
   "cell_type": "code",
   "execution_count": 45,
   "id": "f93b17bf",
   "metadata": {},
   "outputs": [
    {
     "data": {
      "text/plain": [
       "0.5422001608767756"
      ]
     },
     "execution_count": 45,
     "metadata": {},
     "output_type": "execute_result"
    }
   ],
   "source": [
    "x/y"
   ]
  },
  {
   "cell_type": "code",
   "execution_count": null,
   "id": "d792ecdc",
   "metadata": {},
   "outputs": [],
   "source": []
  }
 ],
 "metadata": {
  "kernelspec": {
   "display_name": "Python 3 (ipykernel)",
   "language": "python",
   "name": "python3"
  },
  "language_info": {
   "codemirror_mode": {
    "name": "ipython",
    "version": 3
   },
   "file_extension": ".py",
   "mimetype": "text/x-python",
   "name": "python",
   "nbconvert_exporter": "python",
   "pygments_lexer": "ipython3",
   "version": "3.11.5"
  }
 },
 "nbformat": 4,
 "nbformat_minor": 5
}
