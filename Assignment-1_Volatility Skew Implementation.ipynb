{
 "cells": [
  {
   "cell_type": "code",
   "execution_count": 1,
   "id": "5d9e3597",
   "metadata": {},
   "outputs": [],
   "source": [
    "import numpy as np\n",
    "import pandas as pd\n",
    "import Options_Calculator as op\n",
    "%matplotlib inline\n",
    "%load_ext autoreload\n",
    "%autoreload 2"
   ]
  },
  {
   "cell_type": "code",
   "execution_count": 2,
   "id": "d66240ab",
   "metadata": {},
   "outputs": [
    {
     "data": {
      "text/plain": [
       "5.212234921590209"
      ]
     },
     "execution_count": 2,
     "metadata": {},
     "output_type": "execute_result"
    }
   ],
   "source": [
    "c1=op.call_price(171.01,0,1,0.03,180,0.1)\n",
    "c1"
   ]
  },
  {
   "cell_type": "code",
   "execution_count": 3,
   "id": "0908b967",
   "metadata": {},
   "outputs": [
    {
     "data": {
      "text/plain": [
       "0.43551584351776396"
      ]
     },
     "execution_count": 3,
     "metadata": {},
     "output_type": "execute_result"
    }
   ],
   "source": [
    "d1,g1,v1,t1=op.greeks_call(171.01,0,1,0.03,180,0.1)\n",
    "d1"
   ]
  },
  {
   "cell_type": "code",
   "execution_count": 4,
   "id": "822e845a",
   "metadata": {},
   "outputs": [
    {
     "data": {
      "text/plain": [
       "0.023023175545034132"
      ]
     },
     "execution_count": 4,
     "metadata": {},
     "output_type": "execute_result"
    }
   ],
   "source": [
    "g1"
   ]
  },
  {
   "cell_type": "code",
   "execution_count": 5,
   "id": "7765bb59",
   "metadata": {},
   "outputs": [
    {
     "data": {
      "text/plain": [
       "67.32994176750246"
      ]
     },
     "execution_count": 5,
     "metadata": {},
     "output_type": "execute_result"
    }
   ],
   "source": [
    "v1"
   ]
  },
  {
   "cell_type": "code",
   "execution_count": 6,
   "id": "560ae31e",
   "metadata": {},
   "outputs": [
    {
     "data": {
      "text/plain": [
       "-5.4444569727266"
      ]
     },
     "execution_count": 6,
     "metadata": {},
     "output_type": "execute_result"
    }
   ],
   "source": [
    "t1"
   ]
  },
  {
   "cell_type": "code",
   "execution_count": 7,
   "id": "4748ea05",
   "metadata": {},
   "outputs": [
    {
     "data": {
      "text/plain": [
       "-69.2653294783826"
      ]
     },
     "execution_count": 7,
     "metadata": {},
     "output_type": "execute_result"
    }
   ],
   "source": [
    "nc1=c1-d1*171.01\n",
    "nc1"
   ]
  },
  {
   "cell_type": "code",
   "execution_count": 8,
   "id": "7535f6eb",
   "metadata": {},
   "outputs": [
    {
     "data": {
      "text/plain": [
       "0.6355909770318846"
      ]
     },
     "execution_count": 8,
     "metadata": {},
     "output_type": "execute_result"
    }
   ],
   "source": [
    "d2,g2,v2,t=op.greeks_call(180.2,0,1-(1/12),0.03,180,0.1)\n",
    "d2"
   ]
  },
  {
   "cell_type": "code",
   "execution_count": 9,
   "id": "af512418",
   "metadata": {},
   "outputs": [
    {
     "data": {
      "text/plain": [
       "36.05353905924454"
      ]
     },
     "execution_count": 9,
     "metadata": {},
     "output_type": "execute_result"
    }
   ],
   "source": [
    "del1=d2-d1\n",
    "del1*180.2"
   ]
  },
  {
   "cell_type": "code",
   "execution_count": 10,
   "id": "ddd47d1d",
   "metadata": {},
   "outputs": [
    {
     "data": {
      "text/plain": [
       "9.62488111192711"
      ]
     },
     "execution_count": 10,
     "metadata": {},
     "output_type": "execute_result"
    }
   ],
   "source": [
    "c2=op.call_price(180.2,0,1-(1/12),0.03,180,0.1)\n",
    "c2"
   ]
  },
  {
   "cell_type": "code",
   "execution_count": 11,
   "id": "f7cdbfdf",
   "metadata": {},
   "outputs": [
    {
     "data": {
      "text/plain": [
       "104.9086129492185"
      ]
     },
     "execution_count": 11,
     "metadata": {},
     "output_type": "execute_result"
    }
   ],
   "source": [
    "po2=-c2+d2*180.2\n",
    "po2"
   ]
  },
  {
   "cell_type": "code",
   "execution_count": 12,
   "id": "284288ab",
   "metadata": {},
   "outputs": [
    {
     "data": {
      "text/plain": [
       "35.6432834708359"
      ]
     },
     "execution_count": 12,
     "metadata": {},
     "output_type": "execute_result"
    }
   ],
   "source": [
    "po2+nc1"
   ]
  },
  {
   "cell_type": "code",
   "execution_count": 13,
   "id": "8ad0f85a",
   "metadata": {},
   "outputs": [
    {
     "data": {
      "text/plain": [
       "0.3848073859910144"
      ]
     },
     "execution_count": 13,
     "metadata": {},
     "output_type": "execute_result"
    }
   ],
   "source": [
    "da1=op.digital_call_price(171.01,0,1,0.03,180,0.1)\n",
    "da1"
   ]
  },
  {
   "cell_type": "code",
   "execution_count": 14,
   "id": "62f4c0c0",
   "metadata": {},
   "outputs": [
    {
     "data": {
      "text/plain": [
       "0.2871184593181568"
      ]
     },
     "execution_count": 14,
     "metadata": {},
     "output_type": "execute_result"
    }
   ],
   "source": [
    "da2=op.digital_call_price(171.01,0,1,0.03,185,0.1)\n",
    "da2"
   ]
  },
  {
   "cell_type": "code",
   "execution_count": 19,
   "id": "977d83c6",
   "metadata": {},
   "outputs": [],
   "source": [
    "i=da1-da2"
   ]
  },
  {
   "cell_type": "code",
   "execution_count": 16,
   "id": "02567e7d",
   "metadata": {},
   "outputs": [
    {
     "data": {
      "text/plain": [
       "-0.0005405405405405405"
      ]
     },
     "execution_count": 16,
     "metadata": {},
     "output_type": "execute_result"
    }
   ],
   "source": [
    "skew=((18/180)-(18/185))/(180-185)\n",
    "skew"
   ]
  },
  {
   "cell_type": "code",
   "execution_count": 17,
   "id": "9f3cf6eb",
   "metadata": {},
   "outputs": [
    {
     "data": {
      "text/plain": [
       "62.02813772358702"
      ]
     },
     "execution_count": 17,
     "metadata": {},
     "output_type": "execute_result"
    }
   ],
   "source": [
    "d3,g3,v3,t3=op.greeks_call(171.01,0,1,0.03,185,0.1)                              \n",
    "v3"
   ]
  },
  {
   "cell_type": "code",
   "execution_count": 20,
   "id": "af47ac34",
   "metadata": {},
   "outputs": [],
   "source": [
    "j=(v3-v1)*skew"
   ]
  },
  {
   "cell_type": "code",
   "execution_count": 21,
   "id": "243e2950",
   "metadata": {},
   "outputs": [
    {
     "data": {
      "text/plain": [
       "0.10055476669659563"
      ]
     },
     "execution_count": 21,
     "metadata": {},
     "output_type": "execute_result"
    }
   ],
   "source": [
    "i+j"
   ]
  },
  {
   "cell_type": "code",
   "execution_count": null,
   "id": "c512396a",
   "metadata": {},
   "outputs": [],
   "source": []
  }
 ],
 "metadata": {
  "kernelspec": {
   "display_name": "Python 3 (ipykernel)",
   "language": "python",
   "name": "python3"
  },
  "language_info": {
   "codemirror_mode": {
    "name": "ipython",
    "version": 3
   },
   "file_extension": ".py",
   "mimetype": "text/x-python",
   "name": "python",
   "nbconvert_exporter": "python",
   "pygments_lexer": "ipython3",
   "version": "3.11.5"
  }
 },
 "nbformat": 4,
 "nbformat_minor": 5
}
