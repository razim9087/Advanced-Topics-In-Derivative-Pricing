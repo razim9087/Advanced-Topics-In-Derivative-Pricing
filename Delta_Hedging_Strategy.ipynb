{
 "cells": [
  {
   "cell_type": "code",
   "execution_count": 1,
   "id": "b189ce9b",
   "metadata": {},
   "outputs": [],
   "source": [
    "import numpy as np\n",
    "import pandas as pd\n",
    "import Options_Calculator as op\n",
    "from scipy.stats import norm\n",
    "%matplotlib inline\n",
    "%load_ext autoreload\n",
    "%autoreload 2"
   ]
  },
  {
   "cell_type": "code",
   "execution_count": 2,
   "id": "fb93b7ee",
   "metadata": {},
   "outputs": [],
   "source": [
    "p1=pd.read_excel(\"P4.xlsx\")\n",
    "l=p1.shape"
   ]
  },
  {
   "cell_type": "code",
   "execution_count": 3,
   "id": "0d7175c1",
   "metadata": {},
   "outputs": [
    {
     "data": {
      "text/html": [
       "<div>\n",
       "<style scoped>\n",
       "    .dataframe tbody tr th:only-of-type {\n",
       "        vertical-align: middle;\n",
       "    }\n",
       "\n",
       "    .dataframe tbody tr th {\n",
       "        vertical-align: top;\n",
       "    }\n",
       "\n",
       "    .dataframe thead th {\n",
       "        text-align: right;\n",
       "    }\n",
       "</style>\n",
       "<table border=\"1\" class=\"dataframe\">\n",
       "  <thead>\n",
       "    <tr style=\"text-align: right;\">\n",
       "      <th></th>\n",
       "      <th>Period</th>\n",
       "      <th>Stock Path # 4</th>\n",
       "      <th>Time</th>\n",
       "    </tr>\n",
       "  </thead>\n",
       "  <tbody>\n",
       "    <tr>\n",
       "      <th>0</th>\n",
       "      <td>0</td>\n",
       "      <td>50.000000</td>\n",
       "      <td>0.250</td>\n",
       "    </tr>\n",
       "    <tr>\n",
       "      <th>1</th>\n",
       "      <td>1</td>\n",
       "      <td>47.640628</td>\n",
       "      <td>0.245</td>\n",
       "    </tr>\n",
       "    <tr>\n",
       "      <th>2</th>\n",
       "      <td>2</td>\n",
       "      <td>49.449656</td>\n",
       "      <td>0.240</td>\n",
       "    </tr>\n",
       "    <tr>\n",
       "      <th>3</th>\n",
       "      <td>3</td>\n",
       "      <td>49.372705</td>\n",
       "      <td>0.235</td>\n",
       "    </tr>\n",
       "    <tr>\n",
       "      <th>4</th>\n",
       "      <td>4</td>\n",
       "      <td>49.947589</td>\n",
       "      <td>0.230</td>\n",
       "    </tr>\n",
       "  </tbody>\n",
       "</table>\n",
       "</div>"
      ],
      "text/plain": [
       "   Period  Stock Path # 4   Time\n",
       "0       0       50.000000  0.250\n",
       "1       1       47.640628  0.245\n",
       "2       2       49.449656  0.240\n",
       "3       3       49.372705  0.235\n",
       "4       4       49.947589  0.230"
      ]
     },
     "execution_count": 3,
     "metadata": {},
     "output_type": "execute_result"
    }
   ],
   "source": [
    "S0=p1[\"Stock Path # 4\"] ## Iniial Stock Price\n",
    "c=0  ## Dividend Rate\n",
    "t=0.25 ## Periods till expiration\n",
    "n=50 ## number of hedging period\n",
    "r=0.02 ## Interest rate\n",
    "k=50 ## Strike price of option\n",
    "si=0.3 ## Volatility\n",
    "opsn=100000 ## Size of option position\n",
    "\n",
    "ts=[round(t-i*(t/n),3) for i in p1[\"Period\"]]\n",
    "p1[\"Time\"]=ts\n",
    "p1.head()"
   ]
  },
  {
   "cell_type": "code",
   "execution_count": 4,
   "id": "560046e8",
   "metadata": {},
   "outputs": [],
   "source": [
    "d1=[]\n",
    "d2=[]\n",
    "bsp=[]\n",
    "delta=[]\n",
    "sp=[]\n",
    "for i in range(0,l[0]-1):\n",
    "    a=(np.log(S0[i]/k)+(r-c+((si**2)/2))*p1[\"Time\"][i])/(si*np.sqrt(p1[\"Time\"][i]))\n",
    "    d1.append(a)\n",
    "    d2.append((np.log(S0[i]/k)+(r-c-((si**2)/2))*p1[\"Time\"][i])/(si*np.sqrt(p1[\"Time\"][i])))\n",
    "    bsp.append(op.call_price(S0[i],0,p1[\"Time\"][i],r,k,si)*opsn)\n",
    "    delta.append(norm.cdf(a)*np.exp(-c*p1[\"Time\"][i]))\n",
    "    sp.append(norm.cdf(a)*np.exp(-c*p1[\"Time\"][i])*opsn)\n",
    "\n",
    "sf=[]\n",
    "sf.append(bsp[0])\n",
    "for j in range(0,l[0]-1):\n",
    "    sf.append(sf[j]+sp[j]*(S0[j+1]-S0[j])+(sf[j]-sp[j]*S0[j])*(np.exp(r*(t/n))-1))"
   ]
  },
  {
   "cell_type": "code",
   "execution_count": 5,
   "id": "2feaa552",
   "metadata": {},
   "outputs": [
    {
     "data": {
      "text/plain": [
       "-104401.0"
      ]
     },
     "execution_count": 5,
     "metadata": {},
     "output_type": "execute_result"
    }
   ],
   "source": [
    "pnl=round((sf[-1]-max(S0.iloc[-1]-k,0)*opsn),0)\n",
    "pnl"
   ]
  },
  {
   "cell_type": "code",
   "execution_count": null,
   "id": "21df4846",
   "metadata": {},
   "outputs": [],
   "source": []
  },
  {
   "cell_type": "code",
   "execution_count": null,
   "id": "c081e298",
   "metadata": {},
   "outputs": [],
   "source": []
  },
  {
   "cell_type": "code",
   "execution_count": null,
   "id": "37ae0baa",
   "metadata": {},
   "outputs": [],
   "source": []
  }
 ],
 "metadata": {
  "kernelspec": {
   "display_name": "Python 3 (ipykernel)",
   "language": "python",
   "name": "python3"
  },
  "language_info": {
   "codemirror_mode": {
    "name": "ipython",
    "version": 3
   },
   "file_extension": ".py",
   "mimetype": "text/x-python",
   "name": "python",
   "nbconvert_exporter": "python",
   "pygments_lexer": "ipython3",
   "version": "3.11.5"
  }
 },
 "nbformat": 4,
 "nbformat_minor": 5
}
