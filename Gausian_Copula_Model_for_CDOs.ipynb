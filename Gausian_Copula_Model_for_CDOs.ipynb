{
 "cells": [
  {
   "cell_type": "code",
   "execution_count": 1,
   "id": "7e871438",
   "metadata": {},
   "outputs": [],
   "source": [
    "import numpy as np\n",
    "import pandas as pd"
   ]
  },
  {
   "cell_type": "code",
   "execution_count": 2,
   "id": "1ab22026",
   "metadata": {},
   "outputs": [
    {
     "data": {
      "text/html": [
       "<div>\n",
       "<style scoped>\n",
       "    .dataframe tbody tr th:only-of-type {\n",
       "        vertical-align: middle;\n",
       "    }\n",
       "\n",
       "    .dataframe tbody tr th {\n",
       "        vertical-align: top;\n",
       "    }\n",
       "\n",
       "    .dataframe thead th {\n",
       "        text-align: right;\n",
       "    }\n",
       "</style>\n",
       "<table border=\"1\" class=\"dataframe\">\n",
       "  <thead>\n",
       "    <tr style=\"text-align: right;\">\n",
       "      <th></th>\n",
       "      <th>Credit #</th>\n",
       "      <th>Default Prob</th>\n",
       "    </tr>\n",
       "  </thead>\n",
       "  <tbody>\n",
       "    <tr>\n",
       "      <th>15</th>\n",
       "      <td>16</td>\n",
       "      <td>0.020</td>\n",
       "    </tr>\n",
       "    <tr>\n",
       "      <th>16</th>\n",
       "      <td>17</td>\n",
       "      <td>0.300</td>\n",
       "    </tr>\n",
       "    <tr>\n",
       "      <th>17</th>\n",
       "      <td>18</td>\n",
       "      <td>0.015</td>\n",
       "    </tr>\n",
       "    <tr>\n",
       "      <th>18</th>\n",
       "      <td>19</td>\n",
       "      <td>0.200</td>\n",
       "    </tr>\n",
       "    <tr>\n",
       "      <th>19</th>\n",
       "      <td>20</td>\n",
       "      <td>0.030</td>\n",
       "    </tr>\n",
       "  </tbody>\n",
       "</table>\n",
       "</div>"
      ],
      "text/plain": [
       "    Credit #  Default Prob\n",
       "15        16         0.020\n",
       "16        17         0.300\n",
       "17        18         0.015\n",
       "18        19         0.200\n",
       "19        20         0.030"
      ]
     },
     "execution_count": 2,
     "metadata": {},
     "output_type": "execute_result"
    }
   ],
   "source": [
    "a=pd.read_excel(\"DefaultProb.xlsx\")\n",
    "a.tail()"
   ]
  },
  {
   "cell_type": "code",
   "execution_count": 3,
   "id": "01553660",
   "metadata": {},
   "outputs": [
    {
     "data": {
      "text/plain": [
       "20"
      ]
     },
     "execution_count": 3,
     "metadata": {},
     "output_type": "execute_result"
    }
   ],
   "source": [
    "s=a.shape\n",
    "s[0]"
   ]
  },
  {
   "cell_type": "code",
   "execution_count": 4,
   "id": "0a8da423",
   "metadata": {},
   "outputs": [],
   "source": [
    "q=a[\"Default Prob\"].to_list()\n",
    "p=[0 for _ in range(21)]\n",
    "p[0]=1-q[0]\n",
    "p[1]=q[0]\n",
    "j1=[]"
   ]
  },
  {
   "cell_type": "code",
   "execution_count": 5,
   "id": "801f7f72",
   "metadata": {},
   "outputs": [
    {
     "data": {
      "text/plain": [
       "[0.010989111308212896,\n",
       " 0.06456242520847327,\n",
       " 0.16288282247873337,\n",
       " 0.23990861813910855,\n",
       " 0.2340099810898555,\n",
       " 0.1616643174770314,\n",
       " 0.08233514165584331,\n",
       " 0.03169637754465684,\n",
       " 0.009367245938686227,\n",
       " 0.0021438705712809036,\n",
       " 0.0003813271642282994,\n",
       " 5.265857316417504e-05,\n",
       " 5.615526174287086e-06,\n",
       " 4.5788955655543467e-07,\n",
       " 2.8119940410165187e-08,\n",
       " 1.2729105143236124e-09,\n",
       " 4.121578760147441e-11,\n",
       " 9.148326357305183e-13,\n",
       " 1.3051374313158147e-14,\n",
       " 1.0669168519372802e-16,\n",
       " 3.768547700736001e-19]"
      ]
     },
     "execution_count": 5,
     "metadata": {},
     "output_type": "execute_result"
    }
   ],
   "source": [
    "for i in range(1,20):\n",
    "    new_p=[0 for _ in range(21)]\n",
    "    for j in range(1,i+2):\n",
    "        new_p[j]=p[j-1]*q[i]+p[j]*(1-q[i])\n",
    "    new_p[0]=p[0]*(1-a[\"Default Prob\"][i])\n",
    "    p=new_p\n",
    "p"
   ]
  },
  {
   "cell_type": "code",
   "execution_count": 11,
   "id": "fe51b1af",
   "metadata": {},
   "outputs": [
    {
     "data": {
      "text/plain": [
       "3.669000000000001"
      ]
     },
     "execution_count": 11,
     "metadata": {},
     "output_type": "execute_result"
    }
   ],
   "source": [
    "b=0\n",
    "st=[]\n",
    "for u in range(len(p)):\n",
    "    b=b+u*p[u]\n",
    "    st.append(u*p[u])\n",
    "b"
   ]
  },
  {
   "cell_type": "code",
   "execution_count": 12,
   "id": "3089b97d",
   "metadata": {},
   "outputs": [
    {
     "data": {
      "text/plain": [
       "0.2940766526084732"
      ]
     },
     "execution_count": 12,
     "metadata": {},
     "output_type": "execute_result"
    }
   ],
   "source": []
  },
  {
   "cell_type": "code",
   "execution_count": 8,
   "id": "60adc853",
   "metadata": {},
   "outputs": [],
   "source": [
    "data = pd.DataFrame({\"Prob\": p})\n",
    "data.to_excel(\"sample_data.xlsx\", sheet_name=\"sheet1\", index=False)"
   ]
  },
  {
   "cell_type": "code",
   "execution_count": 16,
   "id": "ab4cfd82",
   "metadata": {},
   "outputs": [
    {
     "data": {
      "text/plain": [
       "1.913459352175101"
      ]
     },
     "execution_count": 16,
     "metadata": {},
     "output_type": "execute_result"
    }
   ],
   "source": [
    "h=np.arange(21)\n",
    "l=0\n",
    "u=2\n",
    "p1=p[l]\n",
    "p2=p[l+1]\n",
    "p3=1-p1-p2\n",
    "tl1=p1*h[0]+p2*h[1]+p3*h[2]-(1-p[l])*h[0]\n",
    "tl1"
   ]
  },
  {
   "cell_type": "code",
   "execution_count": 17,
   "id": "0cd4ae60",
   "metadata": {},
   "outputs": [
    {
     "data": {
      "text/plain": [
       "1.2832226638700521"
      ]
     },
     "execution_count": 17,
     "metadata": {},
     "output_type": "execute_result"
    }
   ],
   "source": [
    "p4=p[2]\n",
    "p5=p[3]\n",
    "p6=1-sum(p[:4])\n",
    "tl2=p4*h[2]+p5*h[3]+p6*h[4]-p3*h[2]\n",
    "tl2"
   ]
  },
  {
   "cell_type": "code",
   "execution_count": 13,
   "id": "9bfb625e",
   "metadata": {},
   "outputs": [
    {
     "data": {
      "text/plain": [
       "array([1.34615610e+01, 7.12356100e+00, 2.78556100e+00, 4.47561000e-01,\n",
       "       1.09561000e-01, 1.77156100e+00, 5.43356100e+00, 1.10955610e+01,\n",
       "       1.87575610e+01, 2.84195610e+01, 4.00815610e+01, 5.37435610e+01,\n",
       "       6.94055610e+01, 8.70675610e+01, 1.06729561e+02, 1.28391561e+02,\n",
       "       1.52053561e+02, 1.77715561e+02, 2.05377561e+02, 2.35039561e+02,\n",
       "       2.66701561e+02])"
      ]
     },
     "execution_count": 13,
     "metadata": {},
     "output_type": "execute_result"
    }
   ],
   "source": [
    "g=(h-b)**2\n",
    "g"
   ]
  },
  {
   "cell_type": "code",
   "execution_count": 15,
   "id": "c12a520b",
   "metadata": {},
   "outputs": [
    {
     "data": {
      "text/plain": [
       "2.535219"
      ]
     },
     "execution_count": 15,
     "metadata": {},
     "output_type": "execute_result"
    }
   ],
   "source": [
    "k=g*p\n",
    "sum(k) ## Variance"
   ]
  },
  {
   "cell_type": "code",
   "execution_count": 26,
   "id": "d12bcea7",
   "metadata": {},
   "outputs": [
    {
     "data": {
      "text/plain": [
       "0.4723179839548477"
      ]
     },
     "execution_count": 26,
     "metadata": {},
     "output_type": "execute_result"
    }
   ],
   "source": [
    "t=sum(st[4:])\n",
    "p7=1-sum(p[:4])\n",
    "tl3=t-p7*4\n",
    "tl3"
   ]
  },
  {
   "cell_type": "code",
   "execution_count": null,
   "id": "2352b699",
   "metadata": {},
   "outputs": [],
   "source": []
  },
  {
   "cell_type": "code",
   "execution_count": null,
   "id": "d56cef91",
   "metadata": {},
   "outputs": [],
   "source": [
    "    "
   ]
  }
 ],
 "metadata": {
  "kernelspec": {
   "display_name": "Python 3 (ipykernel)",
   "language": "python",
   "name": "python3"
  },
  "language_info": {
   "codemirror_mode": {
    "name": "ipython",
    "version": 3
   },
   "file_extension": ".py",
   "mimetype": "text/x-python",
   "name": "python",
   "nbconvert_exporter": "python",
   "pygments_lexer": "ipython3",
   "version": "3.11.5"
  }
 },
 "nbformat": 4,
 "nbformat_minor": 5
}
